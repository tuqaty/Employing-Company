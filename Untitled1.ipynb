{
 "cells": [
  {
   "cell_type": "code",
   "execution_count": 1,
   "metadata": {},
   "outputs": [],
   "source": [
    "def rankncing_degree():\n",
    "    j =0\n",
    "    stt=job [len(job )-1]\n",
    "    for j in range(len(degree)-1): \n",
    "        result= degree[j].find(stt)\n",
    "        if result>=0:\n",
    "            print(\"pre  \",accept_percent[j])\n",
    "            accept_percent[j]+=1\n",
    "            print(\"aftr \",accept_percent[j])\n",
    "            print(result)"
   ]
  },
  {
   "cell_type": "code",
   "execution_count": 2,
   "metadata": {},
   "outputs": [],
   "source": [
    "def rankncing_skilles():\n",
    "    i =0\n",
    "    j =0\n",
    "    convert_lower() \n",
    "    for i in range(len(job)-2): \n",
    "        for j in range(len(skills)): \n",
    "            result = skills[j].find(job [i])\n",
    "            if result>=0:\n",
    "                accept_percent[j]+=1\n",
    "            print(result)\n",
    "            \n",
    "def rankncing_degree():\n",
    "    j = 0\n",
    "    print(job [len(job)-2])\n",
    "    print(len(degree))\n",
    "    x=len(degree)\n",
    "    for j in range(x-1): \n",
    "        print(degree[j])\n",
    "        result = degree[j].find(\"student\")\n",
    "        if result>=0:\n",
    "            accept_percent[j]+=1\n",
    "           \n",
    "       \n",
    "        print(result)\n",
    "        \n",
    "        \n",
    "def rankncing_experience():\n",
    "    j = 0\n",
    "    for j in range(len(experience)): \n",
    "        result = experience[j].find(job [len(job)-1])\n",
    "        if result>=0:\n",
    "            print(\"pre deg \",accept_percent[j])\n",
    "            accept_percent[j]+=1\n",
    "            print(\"aftr deg\",accept_percent[j])\n",
    "             "
   ]
  },
  {
   "cell_type": "code",
   "execution_count": 3,
   "metadata": {},
   "outputs": [
    {
     "ename": "NameError",
     "evalue": "name 'experience' is not defined",
     "output_type": "error",
     "traceback": [
      "\u001b[1;31m---------------------------------------------------------------------------\u001b[0m",
      "\u001b[1;31mNameError\u001b[0m                                 Traceback (most recent call last)",
      "\u001b[1;32m<ipython-input-3-78347cd56c51>\u001b[0m in \u001b[0;36m<module>\u001b[1;34m\u001b[0m\n\u001b[1;32m----> 1\u001b[1;33m \u001b[0mprint\u001b[0m\u001b[1;33m(\u001b[0m\u001b[0mexperience\u001b[0m\u001b[1;33m)\u001b[0m\u001b[1;33m\u001b[0m\u001b[1;33m\u001b[0m\u001b[0m\n\u001b[0m\u001b[0;32m      2\u001b[0m \u001b[0mprint\u001b[0m\u001b[1;33m(\u001b[0m\u001b[0mjob\u001b[0m \u001b[1;33m[\u001b[0m\u001b[0mlen\u001b[0m\u001b[1;33m(\u001b[0m\u001b[0mjob\u001b[0m\u001b[1;33m)\u001b[0m\u001b[1;33m-\u001b[0m\u001b[1;36m1\u001b[0m\u001b[1;33m]\u001b[0m\u001b[1;33m)\u001b[0m\u001b[1;33m\u001b[0m\u001b[1;33m\u001b[0m\u001b[0m\n\u001b[0;32m      3\u001b[0m \u001b[1;33m\u001b[0m\u001b[0m\n\u001b[0;32m      4\u001b[0m \u001b[0mrankncing_skilles\u001b[0m\u001b[1;33m(\u001b[0m\u001b[1;33m)\u001b[0m\u001b[1;33m\u001b[0m\u001b[1;33m\u001b[0m\u001b[0m\n\u001b[0;32m      5\u001b[0m \u001b[0mprint\u001b[0m\u001b[1;33m(\u001b[0m\u001b[0maccept_percent\u001b[0m\u001b[1;33m)\u001b[0m\u001b[1;33m\u001b[0m\u001b[1;33m\u001b[0m\u001b[0m\n",
      "\u001b[1;31mNameError\u001b[0m: name 'experience' is not defined"
     ]
    }
   ],
   "source": [
    "print(experience) \n",
    "print(job [len(job)-1]) \n",
    "\n",
    "rankncing_skilles()\n",
    "print(accept_percent) \n",
    "#rankncing_degree()\n",
    "#print(accept_percent) \n",
    "#rankncing_experience()\n",
    "#print(accept_percent) "
   ]
  },
  {
   "cell_type": "code",
   "execution_count": null,
   "metadata": {},
   "outputs": [],
   "source": [
    "def selectOptimalCV(): n = b\n",
    "    j = 0\n",
    "    local = 0\n",
    "    for j in range(len(skills))\n",
    "        if accept_percent[i]>accept_percent[i+1]c\n",
    "            \n",
    "    "
   ]
  },
  {
   "cell_type": "code",
   "execution_count": null,
   "metadata": {},
   "outputs": [],
   "source": [
    "def rankncing_degree():\n",
    "    i =0\n",
    "    j =0\n",
    "    convert_lower() \n",
    "    for i in range(len(job)): \n",
    "        print(\"**************\")\n",
    "        for j in range(len(skills)): \n",
    "            result = skills[j].find(job [i])\n",
    "            if result>=0:\n",
    "                print(\"pre  \",accept_percent[j])\n",
    "                accept_percent[j]+=1\n",
    "                print(\"aftr \",accept_percent[j])\n",
    "            print(result)"
   ]
  }
 ],
 "metadata": {
  "kernelspec": {
   "display_name": "Python 3",
   "language": "python",
   "name": "python3"
  },
  "language_info": {
   "codemirror_mode": {
    "name": "ipython",
    "version": 3
   },
   "file_extension": ".py",
   "mimetype": "text/x-python",
   "name": "python",
   "nbconvert_exporter": "python",
   "pygments_lexer": "ipython3",
   "version": "3.7.3"
  }
 },
 "nbformat": 4,
 "nbformat_minor": 2
}
