{
 "cells": [
  {
   "cell_type": "code",
   "execution_count": 1,
   "metadata": {},
   "outputs": [],
   "source": [
    "import spacy\n",
    "import pickle\n",
    "import random\n",
    "import sys, fitz"
   ]
  },
  {
   "cell_type": "code",
   "execution_count": 2,
   "metadata": {},
   "outputs": [],
   "source": [
    "train_data = pickle.load(open('train_data.pkl', 'rb'))"
   ]
  },
  {
   "cell_type": "code",
   "execution_count": 3,
   "metadata": {},
   "outputs": [
    {
     "data": {
      "text/plain": [
       "('Govardhana K Senior Software Engineer  Bengaluru, Karnataka, Karnataka - Email me on Indeed: indeed.com/r/Govardhana-K/ b2de315d95905b68  Total IT experience 5 Years 6 Months Cloud Lending Solutions INC 4 Month • Salesforce Developer Oracle 5 Years 2 Month • Core Java Developer Languages Core Java, Go Lang Oracle PL-SQL programming, Sales Force Developer with APEX.  Designations & Promotions  Willing to relocate: Anywhere  WORK EXPERIENCE  Senior Software Engineer  Cloud Lending Solutions -  Bangalore, Karnataka -  January 2018 to Present  Present  Senior Consultant  Oracle -  Bangalore, Karnataka -  November 2016 to December 2017  Staff Consultant  Oracle -  Bangalore, Karnataka -  January 2014 to October 2016  Associate Consultant  Oracle -  Bangalore, Karnataka -  November 2012 to December 2013  EDUCATION  B.E in Computer Science Engineering  Adithya Institute of Technology -  Tamil Nadu  September 2008 to June 2012  https://www.indeed.com/r/Govardhana-K/b2de315d95905b68?isid=rex-download&ikw=download-top&co=IN https://www.indeed.com/r/Govardhana-K/b2de315d95905b68?isid=rex-download&ikw=download-top&co=IN   SKILLS  APEX. (Less than 1 year), Data Structures (3 years), FLEXCUBE (5 years), Oracle (5 years), Algorithms (3 years)  LINKS  https://www.linkedin.com/in/govardhana-k-61024944/  ADDITIONAL INFORMATION  Technical Proficiency:  Languages: Core Java, Go Lang, Data Structures & Algorithms, Oracle PL-SQL programming, Sales Force with APEX. Tools: RADTool, Jdeveloper, NetBeans, Eclipse, SQL developer, PL/SQL Developer, WinSCP, Putty Web Technologies: JavaScript, XML, HTML, Webservice  Operating Systems: Linux, Windows Version control system SVN & Git-Hub Databases: Oracle Middleware: Web logic, OC4J Product FLEXCUBE: Oracle FLEXCUBE Versions 10.x, 11.x and 12.x  https://www.linkedin.com/in/govardhana-k-61024944/',\n",
       " {'entities': [(1749, 1755, 'Companies worked at'),\n",
       "   (1696, 1702, 'Companies worked at'),\n",
       "   (1417, 1423, 'Companies worked at'),\n",
       "   (1356, 1793, 'Skills'),\n",
       "   (1209, 1215, 'Companies worked at'),\n",
       "   (1136, 1248, 'Skills'),\n",
       "   (928, 932, 'Graduation Year'),\n",
       "   (858, 889, 'College Name'),\n",
       "   (821, 856, 'Degree'),\n",
       "   (787, 791, 'Graduation Year'),\n",
       "   (744, 750, 'Companies worked at'),\n",
       "   (722, 742, 'Designation'),\n",
       "   (658, 664, 'Companies worked at'),\n",
       "   (640, 656, 'Designation'),\n",
       "   (574, 580, 'Companies worked at'),\n",
       "   (555, 573, 'Designation'),\n",
       "   (470, 493, 'Companies worked at'),\n",
       "   (444, 469, 'Designation'),\n",
       "   (308, 314, 'Companies worked at'),\n",
       "   (234, 240, 'Companies worked at'),\n",
       "   (175, 198, 'Companies worked at'),\n",
       "   (93, 137, 'Email Address'),\n",
       "   (39, 48, 'Location'),\n",
       "   (13, 38, 'Designation'),\n",
       "   (0, 12, 'Name')]})"
      ]
     },
     "execution_count": 3,
     "metadata": {},
     "output_type": "execute_result"
    }
   ],
   "source": [
    "train_data[0]"
   ]
  },
  {
   "cell_type": "code",
   "execution_count": 4,
   "metadata": {},
   "outputs": [],
   "source": [
    "nlp = spacy.blank('en')\n",
    "\n",
    "def train_model(train_data):\n",
    "    if 'ner' not in nlp.pipe_names:\n",
    "\n",
    "        ner = nlp.create_pipe('ner')\n",
    "        nlp.add_pipe(ner,last= True)\n",
    "    \n",
    "      \n",
    "       \n",
    "    for _, annotation in train_data:\n",
    "        for ent in annotation['entities']:\n",
    "            ner.add_label(ent[2])\n",
    "            \n",
    "    \n",
    "    other_pipes = [pipe for pipe in nlp.pipe_names if pipe != 'ner']\n",
    "    with nlp.disable_pipes(*other_pipes):  # only train NER\n",
    "        optimizer = nlp.begin_training()\n",
    "        for itn in range(10):\n",
    "            print(\"Statring iteration \" + str(itn))\n",
    "            random.shuffle(train_data)\n",
    "            losses = {}\n",
    "            index = 0\n",
    "            for text, annotations in train_data:\n",
    "                try:\n",
    "                    nlp.update(\n",
    "                        [text],  # batch of texts\n",
    "                        [annotations],  # batch of annotations\n",
    "                        drop=0.2,  # dropout - make it harder to memorise data\n",
    "                        sgd=optimizer,  # callable to update weights\n",
    "                        losses=losses)\n",
    "                except Exception as e:\n",
    "                    pass\n",
    "                \n",
    "            print(losses)"
   ]
  },
  {
   "cell_type": "code",
   "execution_count": 5,
   "metadata": {},
   "outputs": [
    {
     "name": "stdout",
     "output_type": "stream",
     "text": [
      "Statring iteration 0\n",
      "{'ner': 13603.344054110257}\n",
      "Statring iteration 1\n",
      "{'ner': 6296.307003654449}\n",
      "Statring iteration 2\n",
      "{'ner': 7483.15640931084}\n",
      "Statring iteration 3\n",
      "{'ner': 6054.4420077356035}\n",
      "Statring iteration 4\n",
      "{'ner': 6010.459510863388}\n",
      "Statring iteration 5\n",
      "{'ner': 6347.488401623083}\n",
      "Statring iteration 6\n",
      "{'ner': 4682.8834838405955}\n",
      "Statring iteration 7\n",
      "{'ner': 4744.977018885171}\n",
      "Statring iteration 8\n",
      "{'ner': 5266.43855041098}\n",
      "Statring iteration 9\n",
      "{'ner': 4289.676412474453}\n"
     ]
    }
   ],
   "source": [
    "train_model(train_data)"
   ]
  },
  {
   "cell_type": "code",
   "execution_count": 26,
   "metadata": {},
   "outputs": [],
   "source": [
    "class Extract:\n",
    "    data=[]\n",
    "    skills=[]\n",
    "    email=[] \n",
    "    name=[] \n",
    "    degree=[]\n",
    "    def read_CVs(self):\n",
    "        n='0'\n",
    "        for  n in range(5):\n",
    "            t = int(n)\n",
    "            v = str(t)\n",
    "            fname = 'C:\\\\Users\\\\hp\\\\Desktop\\\\project2cv\\\\cv\\\\cv'+v+'.pdf'\n",
    "        \n",
    "            doc = fitz.open(fname)\n",
    "            text = \"\"\n",
    "            for page in doc:\n",
    "                text = text + str(page.getText())\n",
    "\n",
    "                tx = \" \".join(text.split('\\n'))\n",
    "          \n",
    "                doc.close\n",
    "  \n",
    "            doc = nlp_model(tx)\n",
    "            for ent in doc.ents:\n",
    "                print(f'{ent.label_.upper():{30}}- {ent.text}\\n\\n\\n')\n",
    "                data.append(ent.label_.upper()+'          '+ent.text)\n",
    "                # print('************************',data[ent])\n",
    "            for  n in range(len(data)):        \n",
    "                print(data[n])\n",
    "            for  i in range(len(data)):\n",
    "                DEGREE = data[i].find('DEGREE')\n",
    "                print (\"SKILLES 22222222222222222222222222222222222222   \", DEGREE)\n",
    "                result = data[i].find('SKILLS')\n",
    "                NAME = data[i].find('NAME')\n",
    "                EMAIL_ADDRESS = data[i].find('EMAIL ADDRESS')\n",
    "       \n",
    "                if result == 0 :\n",
    "                    print (\"SKILLES\", result ,'      ',i,data[i])\n",
    "                    skills.append(data[i])\n",
    "                if NAME == 0 :\n",
    "                    print (\"NAME        \", result ,'      ',i,data[i])\n",
    "                    name.append(data[i]) \n",
    "                if EMAIL_ADDRESS== 0:   \n",
    "                    print (\"EMAIL_ADDRESS        \", result ,'      ',i,data[i])\n",
    "                    email.append(data[i]) \n",
    "                if DEGREE >= 0:   \n",
    "                    print (\"DEGREE         \", result ,'      ',i,data[i])\n",
    "                    degree.append(data[i]) \n",
    "        print('************************',len(data))\n",
    "    \n",
    "    "
   ]
  },
  {
   "cell_type": "code",
   "execution_count": 28,
   "metadata": {},
   "outputs": [
    {
     "ename": "NameError",
     "evalue": "name 'nlp_model' is not defined",
     "output_type": "error",
     "traceback": [
      "\u001b[1;31m---------------------------------------------------------------------------\u001b[0m",
      "\u001b[1;31mNameError\u001b[0m                                 Traceback (most recent call last)",
      "\u001b[1;32m<ipython-input-28-a3c9896394af>\u001b[0m in \u001b[0;36m<module>\u001b[1;34m\u001b[0m\n\u001b[0;32m      1\u001b[0m \u001b[0mex\u001b[0m\u001b[1;33m=\u001b[0m \u001b[0mExtract\u001b[0m\u001b[1;33m(\u001b[0m\u001b[1;33m)\u001b[0m\u001b[1;33m\u001b[0m\u001b[1;33m\u001b[0m\u001b[0m\n\u001b[1;32m----> 2\u001b[1;33m \u001b[0mex\u001b[0m\u001b[1;33m.\u001b[0m\u001b[0mread_CVs\u001b[0m\u001b[1;33m(\u001b[0m\u001b[1;33m)\u001b[0m\u001b[1;33m\u001b[0m\u001b[1;33m\u001b[0m\u001b[0m\n\u001b[0m",
      "\u001b[1;32m<ipython-input-26-e5577f23ce01>\u001b[0m in \u001b[0;36mread_CVs\u001b[1;34m(self)\u001b[0m\n\u001b[0;32m     21\u001b[0m                 \u001b[0mdoc\u001b[0m\u001b[1;33m.\u001b[0m\u001b[0mclose\u001b[0m\u001b[1;33m\u001b[0m\u001b[1;33m\u001b[0m\u001b[0m\n\u001b[0;32m     22\u001b[0m \u001b[1;33m\u001b[0m\u001b[0m\n\u001b[1;32m---> 23\u001b[1;33m             \u001b[0mdoc\u001b[0m \u001b[1;33m=\u001b[0m \u001b[0mnlp_model\u001b[0m\u001b[1;33m(\u001b[0m\u001b[0mtx\u001b[0m\u001b[1;33m)\u001b[0m\u001b[1;33m\u001b[0m\u001b[1;33m\u001b[0m\u001b[0m\n\u001b[0m\u001b[0;32m     24\u001b[0m             \u001b[1;32mfor\u001b[0m \u001b[0ment\u001b[0m \u001b[1;32min\u001b[0m \u001b[0mdoc\u001b[0m\u001b[1;33m.\u001b[0m\u001b[0ments\u001b[0m\u001b[1;33m:\u001b[0m\u001b[1;33m\u001b[0m\u001b[1;33m\u001b[0m\u001b[0m\n\u001b[0;32m     25\u001b[0m                 \u001b[0mprint\u001b[0m\u001b[1;33m(\u001b[0m\u001b[1;34mf'{ent.label_.upper():{30}}- {ent.text}\\n\\n\\n'\u001b[0m\u001b[1;33m)\u001b[0m\u001b[1;33m\u001b[0m\u001b[1;33m\u001b[0m\u001b[0m\n",
      "\u001b[1;31mNameError\u001b[0m: name 'nlp_model' is not defined"
     ]
    }
   ],
   "source": [
    "ex= Extract()\n",
    "ex.read_CVs()"
   ]
  },
  {
   "cell_type": "code",
   "execution_count": 42,
   "metadata": {},
   "outputs": [],
   "source": [
    " import sys, fitz\n",
    "data=[]\n",
    "skills=[]\n",
    "email=[] \n",
    "name=[] \n",
    "degree=[]\n",
    "path=\" \"\n",
    "def set_path(pa):\n",
    "    path = pa\n",
    "    \n",
    "def get_path():\n",
    "    return path \n",
    "def read_CVs():\n",
    "    n='0'\n",
    "  \n",
    "    for  n in range(5):\n",
    "        t = int(n)\n",
    "        v = str(t)\n",
    "        fname = 'C:\\\\Users\\\\hp\\\\Desktop\\\\project2cv\\\\cv\\\\cv'+v+'.pdf'\n",
    "        \n",
    "        doc = fitz.open(fname)\n",
    "        text = \"\"\n",
    "     \n",
    "        for page in doc:\n",
    "            text = text + str(page.getText())\n",
    "\n",
    "            tx = \" \".join(text.split('\\n'))\n",
    "           # print(\"************\",tx)\n",
    "            doc.close\n",
    "        doc = nlp_model(tx)\n",
    "        for ent in doc.ents:\n",
    "            print(f'{ent.label_.upper():{30}}- {ent.text}\\n\\n\\n')\n",
    "            data.append(ent.label_.upper()+'          '+ent.text)\n",
    "           # print('************************',data[ent])\n",
    "    for  n in range(len(data)):        \n",
    "        print(data[n])\n",
    "    for  i in range(len(data)):\n",
    "        DEGREE = data[i].find('DEGREE')\n",
    "        print (\"SKILLES 22222222222222222222222222222222222222   \", DEGREE)\n",
    "        result = data[i].find('SKILLS')\n",
    "        NAME = data[i].find('NAME')\n",
    "        EMAIL_ADDRESS = data[i].find('EMAIL ADDRESS')\n",
    "       \n",
    "        if result == 0 :\n",
    "            print (\"SKILLES\", result ,'      ',i,data[i])\n",
    "            skills.append(data[i])\n",
    "        if NAME == 0 :\n",
    "            print (\"NAME        \", result ,'      ',i,data[i])\n",
    "            name.append(data[i]) \n",
    "        if EMAIL_ADDRESS== 0:   \n",
    "            print (\"EMAIL_ADDRESS        \", result ,'      ',i,data[i])\n",
    "            email.append(data[i]) \n",
    "        if DEGREE >= 0:   \n",
    "            print (\"DEGREE         \", result ,'      ',i,data[i])\n",
    "            degree.append(data[i]) \n",
    "    print('************************',len(data))\n",
    "    "
   ]
  },
  {
   "cell_type": "code",
   "execution_count": 43,
   "metadata": {},
   "outputs": [
    {
     "name": "stdout",
     "output_type": "stream",
     "text": [
      "C:\\Users\\hp\\Desktop\\project2cv\\cv\\cv\n"
     ]
    },
    {
     "data": {
      "text/plain": [
       "' '"
      ]
     },
     "execution_count": 43,
     "metadata": {},
     "output_type": "execute_result"
    }
   ],
   "source": [
    "set_path(\"C:\\\\Users\\\\hp\\\\Desktop\\\\project2cv\\\\cv\\\\cv\")\n",
    "get_path()"
   ]
  },
  {
   "cell_type": "code",
   "execution_count": 37,
   "metadata": {},
   "outputs": [
    {
     "name": "stdout",
     "output_type": "stream",
     "text": [
      "None\n"
     ]
    }
   ],
   "source": [
    "print(set_path(\"C:\\\\Users\\\\hp\\\\Desktop\\\\project2cv\\\\cv\\\\cv\"))"
   ]
  },
  {
   "cell_type": "code",
   "execution_count": 45,
   "metadata": {},
   "outputs": [
    {
     "name": "stdout",
     "output_type": "stream",
     "text": [
      "C:\\Users\\hp\\Desktop\\project2cv\\cv\\cv\n"
     ]
    },
    {
     "ename": "NameError",
     "evalue": "name 'nlp_model' is not defined",
     "output_type": "error",
     "traceback": [
      "\u001b[1;31m---------------------------------------------------------------------------\u001b[0m",
      "\u001b[1;31mNameError\u001b[0m                                 Traceback (most recent call last)",
      "\u001b[1;32m<ipython-input-45-77f503e67695>\u001b[0m in \u001b[0;36m<module>\u001b[1;34m\u001b[0m\n\u001b[1;32m----> 1\u001b[1;33m \u001b[0mread_CVs\u001b[0m\u001b[1;33m(\u001b[0m\u001b[1;33m)\u001b[0m\u001b[1;33m\u001b[0m\u001b[1;33m\u001b[0m\u001b[0m\n\u001b[0m",
      "\u001b[1;32m<ipython-input-42-9d2c3c024545>\u001b[0m in \u001b[0;36mread_CVs\u001b[1;34m()\u001b[0m\n\u001b[0;32m     28\u001b[0m           \u001b[1;31m# print(\"************\",tx)\u001b[0m\u001b[1;33m\u001b[0m\u001b[1;33m\u001b[0m\u001b[1;33m\u001b[0m\u001b[0m\n\u001b[0;32m     29\u001b[0m            \u001b[0mdoc\u001b[0m\u001b[1;33m.\u001b[0m\u001b[0mclose\u001b[0m\u001b[1;33m\u001b[0m\u001b[1;33m\u001b[0m\u001b[0m\n\u001b[1;32m---> 30\u001b[1;33m        \u001b[0mdoc\u001b[0m \u001b[1;33m=\u001b[0m \u001b[0mnlp_model\u001b[0m\u001b[1;33m(\u001b[0m\u001b[0mtx\u001b[0m\u001b[1;33m)\u001b[0m\u001b[1;33m\u001b[0m\u001b[1;33m\u001b[0m\u001b[0m\n\u001b[0m\u001b[0;32m     31\u001b[0m        \u001b[1;32mfor\u001b[0m \u001b[0ment\u001b[0m \u001b[1;32min\u001b[0m \u001b[0mdoc\u001b[0m\u001b[1;33m.\u001b[0m\u001b[0ments\u001b[0m\u001b[1;33m:\u001b[0m\u001b[1;33m\u001b[0m\u001b[1;33m\u001b[0m\u001b[0m\n\u001b[0;32m     32\u001b[0m            \u001b[0mprint\u001b[0m\u001b[1;33m(\u001b[0m\u001b[1;34mf'{ent.label_.upper():{30}}- {ent.text}\\n\\n\\n'\u001b[0m\u001b[1;33m)\u001b[0m\u001b[1;33m\u001b[0m\u001b[1;33m\u001b[0m\u001b[0m\n",
      "\u001b[1;31mNameError\u001b[0m: name 'nlp_model' is not defined"
     ]
    }
   ],
   "source": [
    "read_CVs()"
   ]
  },
  {
   "cell_type": "code",
   "execution_count": null,
   "metadata": {},
   "outputs": [],
   "source": []
  }
 ],
 "metadata": {
  "kernelspec": {
   "display_name": "Python 3",
   "language": "python",
   "name": "python3"
  },
  "language_info": {
   "codemirror_mode": {
    "name": "ipython",
    "version": 3
   },
   "file_extension": ".py",
   "mimetype": "text/x-python",
   "name": "python",
   "nbconvert_exporter": "python",
   "pygments_lexer": "ipython3",
   "version": "3.7.3"
  }
 },
 "nbformat": 4,
 "nbformat_minor": 2
}
